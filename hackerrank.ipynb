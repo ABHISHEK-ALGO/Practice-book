{
 "cells": [
  {
   "cell_type": "markdown",
   "id": "1f12d2ff",
   "metadata": {},
   "source": [
    "### n = int(input())\n",
    "if n%2 !=0:\n",
    "    print(\"weird\")\n",
    "else:\n",
    "    if n>=2 and n<=5:\n",
    "        print(\"not weird\")\n",
    "    elif n>=6 and n<=20:\n",
    "        print(\"weird\")\n",
    "    else:\n",
    "        print(\"not weird\")"
   ]
  },
  {
   "cell_type": "code",
   "execution_count": 2,
   "id": "6ccd0752",
   "metadata": {},
   "outputs": [
    {
     "name": "stdin",
     "output_type": "stream",
     "text": [
      "enter the number: 5\n"
     ]
    },
    {
     "name": "stdout",
     "output_type": "stream",
     "text": [
      "weird\n"
     ]
    }
   ],
   "source": [
    "# if else\n",
    "\n",
    "n = int(input(\"enter the number:\"))\n",
    "result=n%2\n",
    "if result !=0:\n",
    "    print(\"weird\")\n",
    "elif result ==0 and n in range(2,6):\n",
    "    print(\"not weird\")\n",
    "elif result ==0 and n in range (6,20):\n",
    "    print(\"weird\")\n",
    "else:\n",
    "    print(\"not weird\")"
   ]
  },
  {
   "cell_type": "code",
   "execution_count": 4,
   "id": "bf0661b0",
   "metadata": {},
   "outputs": [
    {
     "name": "stdin",
     "output_type": "stream",
     "text": [
      "enter the first number: 7\n",
      "enter the second number: 6\n"
     ]
    },
    {
     "name": "stdout",
     "output_type": "stream",
     "text": [
      "13\n",
      "1\n",
      "42\n"
     ]
    }
   ],
   "source": [
    "# arithematic operators\n",
    "a = int(input(\"enter the first number:\"))\n",
    "b = int(input(\"enter the second number:\"))\n",
    "print(a+b)\n",
    "print(a-b)\n",
    "print(a*b)\n"
   ]
  },
  {
   "cell_type": "code",
   "execution_count": null,
   "id": "435f3036",
   "metadata": {},
   "outputs": [],
   "source": [
    "# loops \n",
    "n = int(input(\"enter the number:\"))\n",
    "for i in range(n):\n",
    "    print(i*i)"
   ]
  },
  {
   "cell_type": "code",
   "execution_count": null,
   "id": "ee0b61bb",
   "metadata": {},
   "outputs": [],
   "source": [
    "# print function\n",
    "n = int(input(\"enter the number:\"))\n",
    "for i in range(1,n+1):\n",
    "    print(i,end ='')"
   ]
  },
  {
   "cell_type": "code",
   "execution_count": null,
   "id": "ae189915",
   "metadata": {},
   "outputs": [],
   "source": [
    "# loop logic\n",
    "x = int(input(\"enter the value x:\"))\n",
    "y = int(input(\"enter the value y:\"))\n",
    "z = int(input(\"enter the value z:\"))\n",
    "n = int(input(\"enter the value:\"))\n",
    "res = []\n",
    "for i in range(x+1):\n",
    "    for j in range(y+1):\n",
    "        for k in range(z+1):\n",
    "            if i+j+k !=n:\n",
    "                res.append([i,j,k])\n",
    "print(res)                "
   ]
  },
  {
   "cell_type": "code",
   "execution_count": null,
   "id": "84af9b52",
   "metadata": {},
   "outputs": [],
   "source": [
    "# using list comprehension\n",
    "\n",
    "x = int(input(\"enter the value x:\"))\n",
    "y = int(input(\"enter the value y:\"))\n",
    "z = int(input(\"enter the value z:\"))\n",
    "n = int(input(\"enter the value:\"))\n",
    "res = [[i,j,k] for i in range(x+1) for j in (y+1) for k in (z+1) if i+j+k !=n]\n",
    "print(res)"
   ]
  },
  {
   "cell_type": "code",
   "execution_count": null,
   "id": "fa83e6a6",
   "metadata": {},
   "outputs": [],
   "source": [
    "# nested if else\n",
    "n = int(input(\"enter the number of students:\"))\n",
    "res_list = []\n",
    "grades = []\n",
    "\n",
    "for i in range(n):\n",
    "    name = input(\"enter the name of the student:\")\n",
    "    marks = float(input(\"enter the marks of the student:\"))\n",
    "    res_list.append([name,marks])\n",
    "    grades.append(marks)\n",
    "#print(res_list)\n",
    "#print(grades)\n",
    "grade = sorted(set(grades))\n",
    "m = grade[1]\n",
    "#print(m)\n",
    "name = []\n",
    "for val in res_list:\n",
    "    if m == val[0]:\n",
    "        name.append(val[0])\n",
    "#print(name)\n",
    "name.sort()\n",
    "print(name)\n",
    "for nm in name:\n",
    "    print(nm)"
   ]
  },
  {
   "cell_type": "code",
   "execution_count": null,
   "id": "91037fac",
   "metadata": {},
   "outputs": [],
   "source": [
    "# basic data types\n",
    "\n",
    "n = int(input())\n",
    "student_marks = {}\n",
    "for i in range(n):\n",
    "    name,*line = input().split()\n",
    "    scores = list(map(float,line))\n",
    "    student_marks[name]=scores\n",
    "query_name = input()\n",
    "marks=student_marks[query_name] \n",
    "print(format(sum(marks)/3),'.2f'))"
   ]
  },
  {
   "cell_type": "code",
   "execution_count": null,
   "id": "c1907b5d",
   "metadata": {},
   "outputs": [],
   "source": [
    "edibles = [\"ham\",\"eggs\",\"spam\",\"nuts\"]\n",
    "\n",
    "for food in edibles:\n",
    "    if food == \"spam\":\n",
    "        print(\"ooh God spam\")\n",
    "        break\n",
    "        \n",
    "    else:\n",
    "        print (\"Great I like \",food)\n",
    "        print(\"i am so glad no spam\")\n",
    "print(\"I am out no food nuts\")\n",
    "        "
   ]
  },
  {
   "cell_type": "code",
   "execution_count": null,
   "id": "1f7b8f33",
   "metadata": {
    "scrolled": true
   },
   "outputs": [],
   "source": [
    "my_dict = {\"name\":\"Arjun\",\"age\":25}\n",
    "#my_dict[\"age\"]=32\n",
    "print(my_dict)"
   ]
  },
  {
   "cell_type": "code",
   "execution_count": null,
   "id": "d72a61c7",
   "metadata": {
    "scrolled": true
   },
   "outputs": [],
   "source": [
    "# number guessing\n",
    "\n",
    "number_to_be_guessed = 5\n",
    "guess = 0\n",
    "while guess != number_to_be_guessed:\n",
    "    guess = int(input(\"Enter the guessed number:\"))\n",
    "    if guess > 0:\n",
    "        if guess > number_to_be_guessed:\n",
    "            print (\"the number is too large\")\n",
    "        elif guess<number_to_be_guessed:\n",
    "            print(\"the number is too small\")\n",
    "    else:\n",
    "        print(\"sorry better luck next time\")\n",
    "else:\n",
    "    print(\"Cogratulations you made it \")"
   ]
  },
  {
   "cell_type": "code",
   "execution_count": null,
   "id": "781d6cab",
   "metadata": {},
   "outputs": [],
   "source": [
    "def greetings(name,greeting):\n",
    "    print(greeting,\"!\",name,sep=' ')"
   ]
  },
  {
   "cell_type": "code",
   "execution_count": null,
   "id": "79a02f06",
   "metadata": {},
   "outputs": [],
   "source": [
    "greetings('john','hello')"
   ]
  },
  {
   "cell_type": "code",
   "execution_count": null,
   "id": "f5a70476",
   "metadata": {},
   "outputs": [],
   "source": [
    "def greetings(name, greeting=\"Hello\"):\n",
    "    print(greeting ,'! ', name, sep = '')"
   ]
  },
  {
   "cell_type": "code",
   "execution_count": null,
   "id": "5cdef047",
   "metadata": {},
   "outputs": [],
   "source": [
    "greetings(\"john\")"
   ]
  },
  {
   "cell_type": "code",
   "execution_count": null,
   "id": "f35be861",
   "metadata": {},
   "outputs": [],
   "source": [
    "def total(*arg):\n",
    "    tot = 0\n",
    "    for n in arg:\n",
    "        tot+=n\n",
    "    print(tot)"
   ]
  },
  {
   "cell_type": "code",
   "execution_count": null,
   "id": "910a68b1",
   "metadata": {},
   "outputs": [],
   "source": [
    "total(8,6,8)"
   ]
  },
  {
   "cell_type": "code",
   "execution_count": null,
   "id": "d7adc585",
   "metadata": {},
   "outputs": [],
   "source": [
    "def information(**kwargs):\n",
    "    for key in kwargs.keys():\n",
    "        print(key,\":\",kwargs[key])"
   ]
  },
  {
   "cell_type": "code",
   "execution_count": null,
   "id": "f703f78c",
   "metadata": {
    "scrolled": true
   },
   "outputs": [],
   "source": [
    "information(name=\"abhi\",age=\"23\")"
   ]
  },
  {
   "cell_type": "code",
   "execution_count": 6,
   "id": "67ab2d71",
   "metadata": {},
   "outputs": [],
   "source": [
    "def net_amount(amount,tax=18,discount=10):\n",
    "    disc = (amount*discount/100)\n",
    "    taxes = (amount-disc)*tax/100\n",
    "    net = (amount-disc)+taxes\n",
    "    print(\"your net Amount is :\",round(net,2))"
   ]
  },
  {
   "cell_type": "code",
   "execution_count": 7,
   "id": "161da8d2",
   "metadata": {},
   "outputs": [
    {
     "name": "stdin",
     "output_type": "stream",
     "text": [
      "enter the amount: 67\n",
      "enter the tax rate: 87\n",
      "enter the discount rate: 79\n"
     ]
    }
   ],
   "source": [
    "amount = float(input(\"enter the amount:\"))\n",
    "tax = float (input(\"enter the tax rate:\"))\n",
    "discount= float(input(\"enter the discount rate:\"))"
   ]
  },
  {
   "cell_type": "code",
   "execution_count": 8,
   "id": "c9ac4c75",
   "metadata": {},
   "outputs": [
    {
     "name": "stdout",
     "output_type": "stream",
     "text": [
      "your net Amount is : 26.31\n"
     ]
    }
   ],
   "source": [
    "return_value = net_amount(amount,tax,discount)"
   ]
  },
  {
   "cell_type": "code",
   "execution_count": null,
   "id": "5e6b74c7",
   "metadata": {
    "scrolled": true
   },
   "outputs": [],
   "source": [
    "print(return_value)"
   ]
  },
  {
   "cell_type": "code",
   "execution_count": null,
   "id": "0457c4c3",
   "metadata": {
    "scrolled": true
   },
   "outputs": [],
   "source": [
    "temp = [23,5,45,76]\n",
    "length = len(temp)\n",
    "for i in range(length):\n",
    "    print(temp[i])"
   ]
  },
  {
   "cell_type": "code",
   "execution_count": null,
   "id": "9bbc7077",
   "metadata": {},
   "outputs": [],
   "source": [
    " #Python3 code to iterate over a list\n",
    "list = [1, 3, 5, 7, 9]\n",
    "  \n",
    "# getting length of list\n",
    "length = len(list)\n",
    "  \n",
    "# Iterating the index\n",
    "# same as 'for i in range(len(list))'\n",
    "for i in range(length):\n",
    "    print(list[i])"
   ]
  },
  {
   "cell_type": "code",
   "execution_count": null,
   "id": "885a7de9",
   "metadata": {},
   "outputs": [],
   "source": [
    "def degree_to_fah(T):\n",
    "    return round ((9/5)*T+32,2)"
   ]
  },
  {
   "cell_type": "code",
   "execution_count": null,
   "id": "5b8a4ccf",
   "metadata": {},
   "outputs": [],
   "source": [
    "return_value=list(map(degree_to_fah,temp))\n",
    "print(return_value)"
   ]
  },
  {
   "cell_type": "code",
   "execution_count": null,
   "id": "d4d7ae3e",
   "metadata": {
    "scrolled": true
   },
   "outputs": [],
   "source": [
    "retur =list(map(lambda T:round(((9/5)*T)+32,2),temp))\n",
    "print(retur)"
   ]
  },
  {
   "cell_type": "code",
   "execution_count": null,
   "id": "c4080073",
   "metadata": {},
   "outputs": [],
   "source": [
    "books = ['python', 'data science', 'machine learning', 'AI', 'deep learning']\n",
    "size = len(books)\n",
    "for it in range(0, size):\n",
    "   print(books[it])"
   ]
  },
  {
   "cell_type": "code",
   "execution_count": 13,
   "id": "2ac588cb-f2c8-4e07-bc2c-648eeed16a7b",
   "metadata": {},
   "outputs": [],
   "source": [
    "# writting a code to find gcd\n",
    "\n",
    "\n",
    "def findHCF(x,y):\n",
    "    if x>y:\n",
    "        smaller = z\n",
    "    else:\n",
    "        smaller = x\n",
    "    for i in range(1,smaller+1):\n",
    "         if (x%i==0) and (y%i==0):\n",
    "             hcf=i\n",
    "    return hcf\n"
   ]
  },
  {
   "cell_type": "code",
   "execution_count": 18,
   "id": "0aed13db-b317-4e5f-b2a1-8e2e4f822330",
   "metadata": {},
   "outputs": [
    {
     "name": "stdin",
     "output_type": "stream",
     "text": [
      "enter the first number : 6\n",
      "enter the second number: 8\n"
     ]
    },
    {
     "name": "stdout",
     "output_type": "stream",
     "text": [
      "the hcf of the given numbers is : 2\n"
     ]
    }
   ],
   "source": [
    "x = int(input(\"enter the first number :\"))\n",
    "y = int(input(\"enter the second number:\"))\n",
    "print(\"the hcf of the given numbers is :\",findHCF(x,y))"
   ]
  },
  {
   "cell_type": "code",
   "execution_count": 22,
   "id": "b38462c0-2f03-4f05-9ff3-ac021b00f7d4",
   "metadata": {},
   "outputs": [
    {
     "name": "stdout",
     "output_type": "stream",
     "text": [
      "1 - 21\n",
      "2 - 4\n",
      "3 - 67\n",
      "4 - 4\n",
      "5 - 7\n",
      "6 - 98\n"
     ]
    }
   ],
   "source": [
    "# code to perform linear search\n",
    "l = [21,4,67,4,7,98]\n",
    "for index,value in enumerate(l,start=1):\n",
    "    print(index,'-',value)"
   ]
  },
  {
   "cell_type": "code",
   "execution_count": 23,
   "id": "1d30b77b-d1d1-427f-aeff-51b82fe5eb7e",
   "metadata": {},
   "outputs": [],
   "source": [
    "def linear_search(lst,target):\n",
    "    for i , num in enumerate(lst):\n",
    "        if num == target:\n",
    "            return i\n",
    "    return -1"
   ]
  },
  {
   "cell_type": "code",
   "execution_count": 25,
   "id": "767b0ffd-663e-4d5a-a4d3-d0e71e4189c3",
   "metadata": {},
   "outputs": [
    {
     "name": "stdout",
     "output_type": "stream",
     "text": [
      "index 1\n"
     ]
    }
   ],
   "source": [
    "numbers = [2,45,67,8,9,65]\n",
    "target = 45\n",
    "print(\"index\", linear_search(numbers,target))"
   ]
  },
  {
   "cell_type": "code",
   "execution_count": 1,
   "id": "34aa3fee-f9f3-4a2f-870c-e8dae814aedd",
   "metadata": {},
   "outputs": [],
   "source": [
    "# Binary search coding\n",
    "\n",
    "def binary_search(lst,target):\n",
    "    low =0\n",
    "    high = len(lst)-1\n",
    "    while low<=high:\n",
    "        mid = (low+high)//2\n",
    "        if lst[mid]==target:\n",
    "            return mid\n",
    "        elif lst[mid]<target:\n",
    "            low = mid+1\n",
    "        else:\n",
    "            high=mid-1\n",
    "    return -1"
   ]
  },
  {
   "cell_type": "code",
   "execution_count": 3,
   "id": "fc9a678a-eba1-4966-bb55-2d5c889f99c9",
   "metadata": {},
   "outputs": [
    {
     "name": "stdout",
     "output_type": "stream",
     "text": [
      "resultant index 3\n"
     ]
    }
   ],
   "source": [
    "lst = [10,20,30,40,50]\n",
    "target = 40\n",
    "print(\"resultant index\",binary_search(lst,target))"
   ]
  },
  {
   "cell_type": "code",
   "execution_count": 10,
   "id": "1ccb8282-8836-462b-a945-a6fb38d55a5d",
   "metadata": {},
   "outputs": [
    {
     "name": "stdout",
     "output_type": "stream",
     "text": [
      "[1, 4, 0]\n",
      "[2, 5, 0]\n",
      "[3, 6, 0]\n"
     ]
    }
   ],
   "source": [
    "# transpose of a matrix\n",
    "\n",
    "x = [[1,2,3],\n",
    "     [4,5,6],\n",
    "    ]\n",
    "t = [[0,0,0],\n",
    "     [0,0,0],\n",
    "     [0,0,0]]\n",
    "\n",
    "for i in range(len(x)):\n",
    "    for j in range(len(x[0])):\n",
    "        t[j][i]=x[i][j]\n",
    "for r in t:\n",
    "    print(r)"
   ]
  },
  {
   "cell_type": "code",
   "execution_count": 24,
   "id": "a45759b2-9042-4782-a34c-c334b4a33bc8",
   "metadata": {},
   "outputs": [],
   "source": [
    "# code to linear search\n",
    "\n",
    "def linear_search(lst,target):\n",
    "    for i ,num in enumerate(lst):\n",
    "        if num==target:\n",
    "            return i\n",
    "        else:\n",
    "            return -1\n",
    "            "
   ]
  },
  {
   "cell_type": "code",
   "execution_count": 25,
   "id": "ad2af7ec-7e46-4816-b47c-5f8ca56a3887",
   "metadata": {},
   "outputs": [
    {
     "name": "stdout",
     "output_type": "stream",
     "text": [
      "result target 0\n"
     ]
    }
   ],
   "source": [
    "lst = [5,8,4,9]\n",
    "target = 5\n",
    "print(\"result target\",linear_search(lst,target))"
   ]
  },
  {
   "cell_type": "code",
   "execution_count": 26,
   "id": "d3046f80-6c00-4aa4-8e55-b7fb2bc038fe",
   "metadata": {},
   "outputs": [
    {
     "name": "stdout",
     "output_type": "stream",
     "text": [
      "sorted list [4, 5, 8, 9]\n"
     ]
    }
   ],
   "source": [
    "print(\"sorted list\",sorted(lst))"
   ]
  },
  {
   "cell_type": "code",
   "execution_count": 6,
   "id": "9eb23456-59e1-42d5-895f-0af237dc375d",
   "metadata": {},
   "outputs": [
    {
     "name": "stdout",
     "output_type": "stream",
     "text": [
      "----------HackerRank\n"
     ]
    }
   ],
   "source": [
    " width = 20\n",
    "print ('HackerRank'.rjust(width,'-'))"
   ]
  },
  {
   "cell_type": "code",
   "execution_count": 45,
   "id": "d7a8330e-d7eb-4304-80fe-fcc53aab1794",
   "metadata": {
    "scrolled": true
   },
   "outputs": [
    {
     "name": "stdin",
     "output_type": "stream",
     "text": [
      " 5\n"
     ]
    },
    {
     "name": "stdout",
     "output_type": "stream",
     "text": [
      "    H    \n",
      "   HHH   \n",
      "  HHHHH  \n",
      " HHHHHHH \n",
      "HHHHHHHHH\n",
      "  HHHHH               HHHHH             \n",
      "  HHHHH               HHHHH             \n",
      "  HHHHH               HHHHH             \n",
      "  HHHHH               HHHHH             \n",
      "  HHHHH               HHHHH             \n",
      "  HHHHH               HHHHH             \n",
      "  HHHHHHHHHHHHHHHHHHHHHHHHH   \n",
      "  HHHHHHHHHHHHHHHHHHHHHHHHH   \n",
      "  HHHHHHHHHHHHHHHHHHHHHHHHH   \n",
      "  HHHHH               HHHHH             \n",
      "  HHHHH               HHHHH             \n",
      "  HHHHH               HHHHH             \n",
      "  HHHHH               HHHHH             \n",
      "  HHHHH               HHHHH             \n",
      "  HHHHH               HHHHH             \n",
      "                    HHHHHHHHH \n",
      "                     HHHHHHH  \n",
      "                      HHHHH   \n",
      "                       HHH    \n",
      "                        H     \n"
     ]
    }
   ],
   "source": [
    "thickness = int(input()) #This must be an odd number\n",
    "c = 'H'\n",
    "#Top Cone\n",
    "for i in range(thickness):\n",
    "   print((c*i).rjust(thickness-1)+c+(c*i).ljust(thickness-1))\n",
    "\n",
    "#Top Pillars\n",
    "for i in range(thickness+1):\n",
    "    print((c*thickness).center(thickness*2)+(c*thickness).center(thickness*6))\n",
    "#Middle Belt\n",
    "for i in range((thickness+1)//2):\n",
    "   print((c*thickness*5).center(thickness*6))   \n",
    "\n",
    "#Bottom Pillars\n",
    "for i in range(thickness+1):\n",
    "    print((c*thickness).center(thickness*2)+(c*thickness).center(thickness*6)) \n",
    "\n",
    "for i in range(thickness):\n",
    "    print(((c*(thickness-i-1)).rjust(thickness)+c+(c*(thickness-i-1)).ljust(thickness)).rjust(thickness*6))"
   ]
  },
  {
   "cell_type": "code",
   "execution_count": 36,
   "id": "df33c103-9cdc-4e6d-b062-01a305697e31",
   "metadata": {},
   "outputs": [
    {
     "name": "stdout",
     "output_type": "stream",
     "text": [
      "HackerRank\n"
     ]
    }
   ],
   "source": [
    "width = 1\n",
    "print ('HackerRank'.center(width))\n"
   ]
  },
  {
   "cell_type": "code",
   "execution_count": 8,
   "id": "c6d2cbfc-67a9-4207-b142-d576a1ccb345",
   "metadata": {
    "scrolled": true
   },
   "outputs": [
    {
     "name": "stdin",
     "output_type": "stream",
     "text": [
      " 2\n",
      "  04-1996\n",
      " 12-2003\n"
     ]
    },
    {
     "name": "stdout",
     "output_type": "stream",
     "text": [
      "[' 04-1996', '12-2003']\n",
      "1996- 04\n",
      "2003-12\n"
     ]
    }
   ],
   "source": [
    "# sorting the dates 12-1993 12-1995 04-1996 08-2000 12-2003\n",
    "n = int(input())\n",
    "a = []\n",
    "for i in range(n):\n",
    "    a.append(input())\n",
    "print(a)\n",
    "ans= []\n",
    "for i in a:\n",
    "    p = i.split('-')\n",
    "    temp = \"-\".join(p[::-1])\n",
    "    ans.append(temp)\n",
    "ans.sort()\n",
    "for i in ans:\n",
    "    p= i.split('-')\n",
    "    temp = \"-\".join(p[::-1])\n",
    "    print(i)\n",
    "    "
   ]
  },
  {
   "cell_type": "code",
   "execution_count": 7,
   "id": "d2c5e637-b3ff-4ea3-82c7-291ed822a5a1",
   "metadata": {},
   "outputs": [
    {
     "name": "stdout",
     "output_type": "stream",
     "text": [
      "9      2\n",
      "4      1\n",
      "89     1\n",
      "67     1\n",
      "978    1\n",
      "32     1\n",
      "86     1\n",
      "8      1\n",
      "5      1\n",
      "88     1\n",
      "3      1\n",
      "Name: count, dtype: int64\n"
     ]
    }
   ],
   "source": [
    "numbers = [4,89,67,978,32,86,8,9,5,88,9,3,]\n",
    "number_series = pd.Series(numbers)\n",
    "counts = number_series.value_counts()\n",
    "print(counts)"
   ]
  },
  {
   "cell_type": "code",
   "execution_count": 9,
   "id": "0541de9c-d3ab-4f95-8780-c140bb176b64",
   "metadata": {},
   "outputs": [
    {
     "name": "stdout",
     "output_type": "stream",
     "text": [
      "set()\n"
     ]
    }
   ],
   "source": [
    "numbers = [4,6,34,66,3,6,7,88,7,2,1,8,44]\n",
    "seen = set()\n",
    "duplicates = set()\n",
    "for num in numbers:\n",
    "    if num is seen:\n",
    "        duplicates.add(num)\n",
    "    else:\n",
    "        seen.add(num)\n",
    "print(duplicates)"
   ]
  },
  {
   "cell_type": "code",
   "execution_count": 26,
   "id": "64d37ff7-8b06-4444-bea8-d746b49baccc",
   "metadata": {},
   "outputs": [
    {
     "ename": "SyntaxError",
     "evalue": "invalid syntax. Perhaps you forgot a comma? (2346285500.py, line 12)",
     "output_type": "error",
     "traceback": [
      "\u001b[1;36m  Cell \u001b[1;32mIn[26], line 12\u001b[1;36m\u001b[0m\n\u001b[1;33m    print(f,\"The sum of the two numbers is:\" {result})\u001b[0m\n\u001b[1;37m            ^\u001b[0m\n\u001b[1;31mSyntaxError\u001b[0m\u001b[1;31m:\u001b[0m invalid syntax. Perhaps you forgot a comma?\n"
     ]
    }
   ],
   "source": [
    "def add_two_numbers():\n",
    "    try:\n",
    "        a = float(input(\"enter the number:\"))\n",
    "        b = float(input(\"enter the second number:\"))\n",
    "        return a + b\n",
    "    except ValueError:\n",
    "        return \"invalid input . please enter the numeric value\"\n",
    "    except exception as e :\n",
    "        return str(e)\n",
    "\n",
    "result = add_two_numbers()\n",
    "print(f\"The sum of the two numbers is:\" {result})"
   ]
  },
  {
   "cell_type": "code",
   "execution_count": 1,
   "id": "6741e7fb-f525-4c4d-afe4-bfd957cd149e",
   "metadata": {},
   "outputs": [
    {
     "name": "stdin",
     "output_type": "stream",
     "text": [
      "enter the base of the : 7\n",
      "enter the height of the : 9\n"
     ]
    },
    {
     "name": "stdout",
     "output_type": "stream",
     "text": [
      "the area of the triangle is :31.5\n"
     ]
    }
   ],
   "source": [
    "# finding the area of the triangle\n",
    "\n",
    "base = float(input(\"enter the base of the :\"))\n",
    "height = float(input(\"enter the height of the :\"))\n",
    "area = 0.5*base*height\n",
    "print(f\"the area of the triangle is :{area}\")"
   ]
  },
  {
   "cell_type": "code",
   "execution_count": null,
   "id": "6ad2f4a8-6d4a-4bb5-8379-920d81dc46a3",
   "metadata": {},
   "outputs": [],
   "source": [
    "##### swapping of the two numbers \n",
    "a = input(\"enter the first number:\")\n",
    "b = input (\"enter the second number:\")\n",
    "print(f\"original values: a={a},b={b}\")\n",
    "temp = a\n",
    "a = b\n",
    "b = temp\n",
    "print(f\"swap values: a ={a},b={b}\")\n",
    "\n"
   ]
  },
  {
   "cell_type": "code",
   "execution_count": 1,
   "id": "9b4e8c2e-f775-4eb2-92b6-65171972fecd",
   "metadata": {},
   "outputs": [
    {
     "name": "stdin",
     "output_type": "stream",
     "text": [
      "enter the first number: 7\n",
      "enter the second number: 8\n"
     ]
    },
    {
     "name": "stdout",
     "output_type": "stream",
     "text": [
      "after swapping:a=8,b=7\n"
     ]
    }
   ],
   "source": [
    "# without variabel\n",
    "a = input(\"enter the first number:\")\n",
    "b = input (\"enter the second number:\")\n",
    "a,b = b,a\n",
    "print(f\"after swapping:a={a},b={b}\")"
   ]
  },
  {
   "cell_type": "code",
   "execution_count": 8,
   "id": "e0a3c6da-b9e6-4643-8889-c17801b5e6c2",
   "metadata": {},
   "outputs": [
    {
     "name": "stdout",
     "output_type": "stream",
     "text": [
      "Random numbers :14\n"
     ]
    }
   ],
   "source": [
    "# generate random numbers \n",
    "import random\n",
    "print(f\"Random numbers :{random.randint(1,19)}\")\n"
   ]
  },
  {
   "cell_type": "code",
   "execution_count": 9,
   "id": "54e660df-ebbf-4265-9a34-c6b6914edbd1",
   "metadata": {},
   "outputs": [
    {
     "name": "stdin",
     "output_type": "stream",
     "text": [
      "enter the temperat32ure in celsius: 7\n"
     ]
    },
    {
     "name": "stdout",
     "output_type": "stream",
     "text": [
      "the temperature in faren is 44.6\n"
     ]
    }
   ],
   "source": [
    "# celsius to farenh\n",
    "celsius = float(input(\"enter the temperat32ure in celsius:\"))\n",
    "faren = (celsius*9/5)+32\n",
    "print(f\"the temperature in faren is {faren}\")"
   ]
  },
  {
   "cell_type": "code",
   "execution_count": 15,
   "id": "4ca663a9-f870-42d1-a0c0-851563b02809",
   "metadata": {},
   "outputs": [
    {
     "name": "stdin",
     "output_type": "stream",
     "text": [
      "enter the year: 2024\n",
      "enter the month: 10\n"
     ]
    },
    {
     "name": "stdout",
     "output_type": "stream",
     "text": [
      "    October 2024\n",
      "Mo Tu We Th Fr Sa Su\n",
      "    1  2  3  4  5  6\n",
      " 7  8  9 10 11 12 13\n",
      "14 15 16 17 18 19 20\n",
      "21 22 23 24 25 26 27\n",
      "28 29 30 31\n",
      "\n"
     ]
    }
   ],
   "source": [
    "# make calender\n",
    "import calendar\n",
    "year = int(input(\"enter the year:\"))\n",
    "month = int(input(\"enter the month:\"))\n",
    "cal = calendar.month(year,month)\n",
    "print(cal)\n"
   ]
  },
  {
   "cell_type": "code",
   "execution_count": 4,
   "id": "64407450-8a8e-4e75-90a7-5e70421b10f1",
   "metadata": {},
   "outputs": [
    {
     "name": "stdin",
     "output_type": "stream",
     "text": [
      "enter the numiber: -4\n"
     ]
    },
    {
     "name": "stdout",
     "output_type": "stream",
     "text": [
      "the number is negative-4.0\n"
     ]
    }
   ],
   "source": [
    "# check the number if positive or negative \n",
    "num = float(input(\"enter the numiber:\"))\n",
    "if num>0:\n",
    "    print(f\"the number is positive:{num}\")\n",
    "elif num ==0:\n",
    "    print(f\"the number is zero\")\n",
    "else:\n",
    "    print(f\"the number is negative{num}\")"
   ]
  },
  {
   "cell_type": "code",
   "execution_count": 5,
   "id": "04c165ac-ac49-42bd-91a1-75d6c6f63a0c",
   "metadata": {},
   "outputs": [
    {
     "name": "stdin",
     "output_type": "stream",
     "text": [
      "enter the num: 8\n"
     ]
    },
    {
     "name": "stdout",
     "output_type": "stream",
     "text": [
      "the number is even:8.0\n"
     ]
    }
   ],
   "source": [
    "# checking the number odd or even\n",
    "num = float(input(\"enter the num:\"))\n",
    "if num%2 ==0:\n",
    "    print(f\"the number is even:{num}\")\n",
    "else:\n",
    "    print(f\"the numver is odd:{num}\")"
   ]
  },
  {
   "cell_type": "code",
   "execution_count": 8,
   "id": "9664c06f-392c-4799-8211-58c43a7f984b",
   "metadata": {},
   "outputs": [],
   "source": [
    "def is_leap_year(year):\n",
    "    if (year%4==0)&(year%100 !=0 or year%400 ==0):\n",
    "        return True\n",
    "    else:\n",
    "        return False"
   ]
  },
  {
   "cell_type": "code",
   "execution_count": 10,
   "id": "bb206268-845c-45a6-a099-1f18beef9f77",
   "metadata": {},
   "outputs": [
    {
     "name": "stdin",
     "output_type": "stream",
     "text": [
      "enter the year: 1999\n"
     ]
    },
    {
     "name": "stdout",
     "output_type": "stream",
     "text": [
      "1999 is not a leap year\n"
     ]
    }
   ],
   "source": [
    "year = int(input(\"enter the year:\"))\n",
    "if is_leap_year(year):\n",
    "    print(f\"{year} is a leap year\")\n",
    "else:\n",
    "    print(f\"{year} is not a leap year\")"
   ]
  },
  {
   "cell_type": "code",
   "execution_count": 11,
   "id": "59397c8f-6d23-4652-84e0-eb64d29f5ae2",
   "metadata": {},
   "outputs": [
    {
     "data": {
      "text/plain": [
       "False"
      ]
     },
     "execution_count": 11,
     "metadata": {},
     "output_type": "execute_result"
    }
   ],
   "source": [
    "is_leap_year(1999)"
   ]
  }
 ],
 "metadata": {
  "kernelspec": {
   "display_name": "Python 3 (ipykernel)",
   "language": "python",
   "name": "python3"
  },
  "language_info": {
   "codemirror_mode": {
    "name": "ipython",
    "version": 3
   },
   "file_extension": ".py",
   "mimetype": "text/x-python",
   "name": "python",
   "nbconvert_exporter": "python",
   "pygments_lexer": "ipython3",
   "version": "3.11.7"
  }
 },
 "nbformat": 4,
 "nbformat_minor": 5
}
