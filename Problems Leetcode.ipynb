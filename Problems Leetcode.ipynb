{
 "cells": [
  {
   "cell_type": "code",
   "execution_count": 1,
   "id": "bbb8a68b",
   "metadata": {},
   "outputs": [],
   "source": [
    "# missing no code\n",
    "import array as arr\n",
    "def missing_no(n,arr):\n",
    "    res = n*(n+1)/2\n",
    "    arr_sum = 0\n",
    "    for i in range(n-1):\n",
    "        arr_sum = arr_sum + arr[i]\n",
    "    result = res - arr_sum\n",
    "    return (int)(result)\n",
    "        "
   ]
  },
  {
   "cell_type": "code",
   "execution_count": null,
   "id": "7d9cbb38-b52a-4b05-af89-8ec37c6ae637",
   "metadata": {},
   "outputs": [],
   "source": []
  },
  {
   "cell_type": "code",
   "execution_count": 5,
   "id": "ef5d2157",
   "metadata": {},
   "outputs": [
    {
     "name": "stdout",
     "output_type": "stream",
     "text": [
      "124\n",
      "124\n"
     ]
    },
    {
     "ename": "IndexError",
     "evalue": "list index out of range",
     "output_type": "error",
     "traceback": [
      "\u001b[1;31m---------------------------------------------------------------------------\u001b[0m",
      "\u001b[1;31mIndexError\u001b[0m                                Traceback (most recent call last)",
      "Input \u001b[1;32mIn [5]\u001b[0m, in \u001b[0;36m<cell line: 3>\u001b[1;34m()\u001b[0m\n\u001b[0;32m      1\u001b[0m n \u001b[38;5;241m=\u001b[39m \u001b[38;5;28mint\u001b[39m(\u001b[38;5;28minput\u001b[39m())\n\u001b[0;32m      2\u001b[0m arr \u001b[38;5;241m=\u001b[39m \u001b[38;5;28mlist\u001b[39m(\u001b[38;5;28mmap\u001b[39m(\u001b[38;5;28mint\u001b[39m,\u001b[38;5;28minput\u001b[39m()\u001b[38;5;241m.\u001b[39msplit()))\n\u001b[1;32m----> 3\u001b[0m out \u001b[38;5;241m=\u001b[39m \u001b[43mmissing_no\u001b[49m\u001b[43m(\u001b[49m\u001b[38;5;241;43m4\u001b[39;49m\u001b[43m,\u001b[49m\u001b[43marr\u001b[49m\u001b[43m)\u001b[49m\n\u001b[0;32m      4\u001b[0m \u001b[38;5;28mprint\u001b[39m(out)\n",
      "Input \u001b[1;32mIn [1]\u001b[0m, in \u001b[0;36mmissing_no\u001b[1;34m(n, arr)\u001b[0m\n\u001b[0;32m      5\u001b[0m arr_sum \u001b[38;5;241m=\u001b[39m \u001b[38;5;241m0\u001b[39m\n\u001b[0;32m      6\u001b[0m \u001b[38;5;28;01mfor\u001b[39;00m i \u001b[38;5;129;01min\u001b[39;00m \u001b[38;5;28mrange\u001b[39m(n\u001b[38;5;241m-\u001b[39m\u001b[38;5;241m1\u001b[39m):\n\u001b[1;32m----> 7\u001b[0m     arr_sum \u001b[38;5;241m=\u001b[39m arr_sum \u001b[38;5;241m+\u001b[39m \u001b[43marr\u001b[49m\u001b[43m[\u001b[49m\u001b[43mi\u001b[49m\u001b[43m]\u001b[49m\n\u001b[0;32m      8\u001b[0m result \u001b[38;5;241m=\u001b[39m res \u001b[38;5;241m-\u001b[39m arr_sum\n\u001b[0;32m      9\u001b[0m \u001b[38;5;28;01mreturn\u001b[39;00m (\u001b[38;5;28mint\u001b[39m)(result)\n",
      "\u001b[1;31mIndexError\u001b[0m: list index out of range"
     ]
    }
   ],
   "source": [
    "n = int(input())\n",
    "arr = list(map(int,input().split()))\n",
    "out = missing_no(4,arr)\n",
    "print(out)\n"
   ]
  },
  {
   "cell_type": "code",
   "execution_count": 16,
   "id": "a298cc7b",
   "metadata": {},
   "outputs": [],
   "source": [
    "# sorting the squares\n",
    "def sort_squares(arr):\n",
    "    result = []\n",
    "    positive = []\n",
    "    negative = []\n",
    "\n",
    "    # Separating positive and negative numbers\n",
    "    for num in arr:\n",
    "        if num < 0:\n",
    "            negative.append(num)\n",
    "        else:\n",
    "            positive.append(num)\n",
    "\n",
    "    # Sorting squares\n",
    "    positive_index = 0\n",
    "    negative_index = len(negative) - 1\n",
    "\n",
    "    while positive_index < len(positive) and negative_index >= 0:\n",
    "        if pow(positive[positive_index], 2) < pow(negative[negative_index], 2):\n",
    "            result.append(pow(positive[positive_index], 2))\n",
    "            positive_index += 1\n",
    "        else:\n",
    "            result.append(pow(negative[negative_index], 2))\n",
    "            negative_index -= 1\n",
    "\n",
    "    # Adding remaining positive and negative squares\n",
    "    while positive_index < len(positive):\n",
    "        result.append(pow(positive[positive_index], 2))\n",
    "        positive_index += 1\n",
    "\n",
    "    while negative_index >= 0:\n",
    "        result.append(pow(negative[negative_index], 2))\n",
    "        negative_index -= 1\n",
    "\n",
    "    return result\n",
    "\n"
   ]
  },
  {
   "cell_type": "code",
   "execution_count": 17,
   "id": "554f79a5",
   "metadata": {},
   "outputs": [
    {
     "name": "stdout",
     "output_type": "stream",
     "text": [
      "[9, 16, 9, 1, 25]\n"
     ]
    }
   ],
   "source": [
    "arr = [-1, -3, -4, 3, 5]\n",
    "sorted_square = sort_squares(arr)\n",
    "print(sorted_square)\n"
   ]
  },
  {
   "cell_type": "code",
   "execution_count": 1,
   "id": "c8dcbaad",
   "metadata": {},
   "outputs": [],
   "source": [
    "# candies extras\n",
    "\n",
    "def all_extras_candies(n,candies,extra_candies):\n",
    "    res = []\n",
    "    maximum = 0\n",
    "    for i in range(n):\n",
    "        if maximum < candies[i]:\n",
    "            maximum = candies[i]\n",
    "    for i in range(n):\n",
    "        if extra_cnadies + candies[i]>=maximum:\n",
    "            res.append(i)\n",
    "            "
   ]
  },
  {
   "cell_type": "code",
   "execution_count": 25,
   "id": "dd2a5cfe-015b-40c4-aa4e-b7a966b32d30",
   "metadata": {},
   "outputs": [
    {
     "name": "stdout",
     "output_type": "stream",
     "text": [
      "Hello:World\n"
     ]
    }
   ],
   "source": [
    "n =\"Hello:World\"\n",
    "print(n)"
   ]
  },
  {
   "cell_type": "code",
   "execution_count": 23,
   "id": "5b74aa95-d4c4-47a3-8f99-37587f0c7b8a",
   "metadata": {
    "scrolled": true
   },
   "outputs": [
    {
     "name": "stdout",
     "output_type": "stream",
     "text": [
      "dooe\n"
     ]
    }
   ],
   "source": [
    "print(n[::-3])#dlroW,olleH\n"
   ]
  },
  {
   "cell_type": "code",
   "execution_count": 27,
   "id": "283f4007-2ed4-4bf0-bebc-65a693a0707b",
   "metadata": {
    "scrolled": true
   },
   "outputs": [
    {
     "name": "stdout",
     "output_type": "stream",
     "text": [
      "['Hello', 'World']\n"
     ]
    }
   ],
   "source": [
    "print(n.split(':'))"
   ]
  },
  {
   "cell_type": "code",
   "execution_count": 49,
   "id": "931175c9-2970-493c-92ba-eea0183d7f34",
   "metadata": {},
   "outputs": [
    {
     "name": "stdout",
     "output_type": "stream",
     "text": [
      "they are called \"vikings\tfrom the north\n"
     ]
    }
   ],
   "source": [
    "n = \"they are called \\\"vikings\\tfrom the north\"\n",
    "print(n)\n",
    "n.count('t')\n"
   ]
  },
  {
   "cell_type": "code",
   "execution_count": 55,
   "id": "17bb86de-8cb2-42cb-8930-d6edebb639e8",
   "metadata": {},
   "outputs": [
    {
     "name": "stdout",
     "output_type": "stream",
     "text": [
      "b'they are called \"vikings\\tfrom the north'\n"
     ]
    }
   ],
   "source": [
    "t = n.encode()\n",
    "print(t)"
   ]
  },
  {
   "cell_type": "code",
   "execution_count": 4,
   "id": "ab5de8c6-41c3-42d2-8909-743d5a62c30f",
   "metadata": {},
   "outputs": [
    {
     "name": "stdout",
     "output_type": "stream",
     "text": [
      " My name is John, I am 36 \n"
     ]
    }
   ],
   "source": [
    "age = 36\n",
    "txt = f\" My name is John, I am {age} \"\n",
    "print(txt)"
   ]
  },
  {
   "cell_type": "code",
   "execution_count": 8,
   "id": "cbbecdf9-a652-45e6-8d72-cd998159d666",
   "metadata": {},
   "outputs": [
    {
     "name": "stdout",
     "output_type": "stream",
     "text": [
      "The price is 59.0000 dollars\n"
     ]
    }
   ],
   "source": [
    "#A placeholder can contain variables, operations, functions, and modifiers to format the value.b\n",
    "price = 59\n",
    "txt = f\"The price is {price:.4f} dollars\"\n",
    "print(txt)"
   ]
  },
  {
   "cell_type": "code",
   "execution_count": 26,
   "id": "70e2c983-bdf0-4c1c-8482-b7cf2f89dad4",
   "metadata": {
    "scrolled": true
   },
   "outputs": [
    {
     "ename": "SyntaxError",
     "evalue": "unterminated string literal (detected at line 1) (922437489.py, line 1)",
     "output_type": "error",
     "traceback": [
      "\u001b[1;36m  Cell \u001b[1;32mIn[26], line 1\u001b[1;36m\u001b[0m\n\u001b[1;33m    txt = \"We are the so-called \\\"ikings\"  from the north.\"\u001b[0m\n\u001b[1;37m                                                          ^\u001b[0m\n\u001b[1;31mSyntaxError\u001b[0m\u001b[1;31m:\u001b[0m unterminated string literal (detected at line 1)\n"
     ]
    }
   ],
   "source": [
    "txt = \"We are the so-called \\\"ikings\"  from the north.\"\n",
    "print(txt)"
   ]
  },
  {
   "cell_type": "code",
   "execution_count": 28,
   "id": "452787fd-2524-49a8-bba2-5e174480a812",
   "metadata": {},
   "outputs": [],
   "source": [
    "def reverse_string(self, s):\n",
    "        return \" \".join(word[::-1] for word in s.split())"
   ]
  },
  {
   "cell_type": "code",
   "execution_count": 30,
   "id": "d69fb2bc-deb5-4bd1-809f-2337fa6921c6",
   "metadata": {},
   "outputs": [
    {
     "ename": "TypeError",
     "evalue": "reverse_string() missing 1 required positional argument: 's'",
     "output_type": "error",
     "traceback": [
      "\u001b[1;31m---------------------------------------------------------------------------\u001b[0m",
      "\u001b[1;31mTypeError\u001b[0m                                 Traceback (most recent call last)",
      "Cell \u001b[1;32mIn[30], line 1\u001b[0m\n\u001b[1;32m----> 1\u001b[0m reverse_string(\u001b[38;5;124m\"\u001b[39m\u001b[38;5;124mi an the best\u001b[39m\u001b[38;5;124m\"\u001b[39m)\n",
      "\u001b[1;31mTypeError\u001b[0m: reverse_string() missing 1 required positional argument: 's'"
     ]
    }
   ],
   "source": [
    "reverse_string(\"i an the best\")"
   ]
  },
  {
   "cell_type": "code",
   "execution_count": 1,
   "id": "485933d4-d3bd-4208-96be-27684deaf0fe",
   "metadata": {},
   "outputs": [],
   "source": [
    "# palindrome\n",
    "def ispalindrome(x:int):\n",
    "    return str(x)==str(x)[::-1]"
   ]
  },
  {
   "cell_type": "code",
   "execution_count": 3,
   "id": "45fd1c57-b167-4238-951b-895ab98822ac",
   "metadata": {},
   "outputs": [
    {
     "data": {
      "text/plain": [
       "False"
      ]
     },
     "execution_count": 3,
     "metadata": {},
     "output_type": "execute_result"
    }
   ],
   "source": [
    "ispalindrome(7853)"
   ]
  },
  {
   "cell_type": "code",
   "execution_count": 6,
   "id": "cee30a51-d9de-4b76-a458-8d88cc3b0a78",
   "metadata": {},
   "outputs": [],
   "source": [
    "l = \"I am here\""
   ]
  },
  {
   "cell_type": "code",
   "execution_count": 7,
   "id": "6b95fd1f-2e8b-417f-b9e9-df9868fb3a75",
   "metadata": {},
   "outputs": [
    {
     "data": {
      "text/plain": [
       "['I', 'am', 'here']"
      ]
     },
     "execution_count": 7,
     "metadata": {},
     "output_type": "execute_result"
    }
   ],
   "source": [
    "listStr =l.split()\n",
    "listStr"
   ]
  },
  {
   "cell_type": "code",
   "execution_count": 14,
   "id": "d5b238b2-be59-4c36-8669-b07782295549",
   "metadata": {},
   "outputs": [],
   "source": [
    "for i in range(len(listStr)):\n",
    "    listStr[i] = listStr[i][::-1]\n",
    "    "
   ]
  },
  {
   "cell_type": "code",
   "execution_count": 28,
   "id": "734c04ea-a672-422d-8f02-d17c4f619307",
   "metadata": {},
   "outputs": [],
   "source": [
    "# finding maximum vowels in substring\n",
    "\n",
    "def maxVowels(s: str, k: int) -> int:# function is created\n",
    "    vowel = {'a', 'e', 'i', 'o', 'u'}\n",
    "    l, cnt, res = 0, 0, 0\n",
    "\n",
    "    for r in range(len(s)):\n",
    "        cnt += 1 if s[r] in vowel else 0\n",
    "\n",
    "        # If window size exceeds k, move left pointer\n",
    "        if r - l + 1 > k:\n",
    "            cnt -= 1 if s[l] in vowel else 0\n",
    "            l += 1\n",
    "\n",
    "        res = max(res, cnt)\n",
    "\n",
    "    return res\n"
   ]
  },
  {
   "cell_type": "code",
   "execution_count": 30,
   "id": "2ff24c8a-def7-451f-a795-ec34ced43eba",
   "metadata": {},
   "outputs": [
    {
     "name": "stdout",
     "output_type": "stream",
     "text": [
      "3\n"
     ]
    }
   ],
   "source": [
    "# Example usage:\n",
    "s = \"abciiidef\"\n",
    "k = 3\n",
    "result = maxVowels(s, k)\n",
    "print(result)  # This will print the maximum number of vowels in any substring of length k\n"
   ]
  },
  {
   "cell_type": "code",
   "execution_count": 36,
   "id": "ef14e9b6-4fbc-45b3-92db-e2e682a39ebd",
   "metadata": {},
   "outputs": [],
   "source": [
    "class Solution:\n",
    "    def maxVowels(self, s: str, k: int) -> int: #method in a class\n",
    "        vowel = {'a', 'e', 'i', 'o', 'u'}\n",
    "        l, cnt, res = 0, 0, 0\n",
    "\n",
    "        for r in range(len(s)):\n",
    "            cnt += 1 if s[r] in vowel else 0\n",
    "\n",
    "            # If window size exceeds k, move left pointer\n",
    "            if r - l + 1 > k:# r-l+1 becouse we start index from 0 if started with 1 then r-l\n",
    "                cnt -= 1 if s[l] in vowel else 0\n",
    "                l += 1\n",
    "\n",
    "            res = max(res, cnt)\n",
    "\n",
    "        return res\n",
    "\n"
   ]
  },
  {
   "cell_type": "code",
   "execution_count": 42,
   "id": "a00d83b5-141e-471d-a5ea-73bd1c83ff9a",
   "metadata": {},
   "outputs": [
    {
     "name": "stdout",
     "output_type": "stream",
     "text": [
      "1\n"
     ]
    }
   ],
   "source": [
    "# Create an instance of Solution and call maxVowels\n",
    "sol = Solution()\n",
    "s = \"abhidgri\"\n",
    "k = 3 \n",
    "res = sol.maxVowels(s,k)\n",
    "print (res)\n"
   ]
  },
  {
   "cell_type": "code",
   "execution_count": 46,
   "id": "b87b215e-2e36-4a17-ac51-2b37bf115075",
   "metadata": {},
   "outputs": [],
   "source": [
    "# identifying alpha and lowervowels from single input string charb\n",
    "\n",
    "def is_lowervowel(c:str):\n",
    "    return c ==\"a\" or c==\"e\" or c == \"i\" or c == \"o\" or c == \"u\""
   ]
  },
  {
   "cell_type": "code",
   "execution_count": 72,
   "id": "421c8d71-5112-48d9-b306-3245f2fb6f03",
   "metadata": {},
   "outputs": [],
   "source": [
    "# string palindrome with two pointer approach\n",
    "\n",
    "def is_palindrome(s):\n",
    "    if not isinstance(s, str):  # Check if s is not a string\n",
    "        return False  # or raise an error, depending on your needs\n",
    "    i=0 # start left point\n",
    "    j=len(s)-1\n",
    "    while i < j:\n",
    "        if s[i] != s[j]:\n",
    "            return False\n",
    "        i+=1\n",
    "        j-=1\n",
    "    return True\n",
    "        "
   ]
  },
  {
   "cell_type": "code",
   "execution_count": 70,
   "id": "1e16226d-cca0-4058-801e-a94f6ca5f8a3",
   "metadata": {},
   "outputs": [
    {
     "name": "stdout",
     "output_type": "stream",
     "text": [
      "False\n"
     ]
    }
   ],
   "source": [
    "print(is_palindrome(\"high\"))"
   ]
  },
  {
   "cell_type": "code",
   "execution_count": 74,
   "id": "518f10e4-5910-41dc-b2df-f75352b3245a",
   "metadata": {},
   "outputs": [],
   "source": [
    "# searchiing for target in sum of arriy\n",
    "def twoSum(a,target):\n",
    "    i = 0\n",
    "    j = 0\n",
    "    while i<j:\n",
    "        sm = a[i]+a[j]\n",
    "        if target == sm:\n",
    "            print(\"{} {}\".format(a[i],a[j]))\n",
    "            print(\"{} {}\".format(i,j))\n",
    "            return True\n",
    "        elif sm<target:\n",
    "            i = i+1\n",
    "        else:\n",
    "            j=j-1\n",
    "    return False\n",
    "    "
   ]
  },
  {
   "cell_type": "code",
   "execution_count": 76,
   "id": "725826c0-36ba-4846-ae51-551fa3283caf",
   "metadata": {
    "scrolled": true
   },
   "outputs": [
    {
     "data": {
      "text/plain": [
       "False"
      ]
     },
     "execution_count": 76,
     "metadata": {},
     "output_type": "execute_result"
    }
   ],
   "source": [
    "a = 2,4,6,3,5\n",
    "target = 6\n",
    "twoSum(a,target)"
   ]
  },
  {
   "cell_type": "code",
   "execution_count": 2,
   "id": "45b45c96-a913-4796-8be2-9b2558c0f5db",
   "metadata": {},
   "outputs": [],
   "source": [
    "# min subarray length\n",
    "\n",
    "from typing import List\n",
    "\n",
    "class Solution:\n",
    "    def minSubArrayLen(self, target: int, nums: List[int]) -> int:\n",
    "        l, total = 0, 0\n",
    "        res = float(\"inf\")\n",
    "\n",
    "        for r in range(len(nums)):\n",
    "            total += nums[r]\n",
    "\n",
    "            while total >= target:  # Shrink the window as much as possible\n",
    "                res = min(res, r - l + 1)\n",
    "                total -= nums[l]\n",
    "                l += 1\n",
    "\n",
    "        return 0 if res == float(\"inf\") else res\n",
    "\n",
    "        "
   ]
  },
  {
   "cell_type": "code",
   "execution_count": 4,
   "id": "2416716c-8f59-4818-8f5d-e29f441422e6",
   "metadata": {},
   "outputs": [
    {
     "name": "stdout",
     "output_type": "stream",
     "text": [
      "2\n"
     ]
    }
   ],
   "source": [
    "sol = Solution()\n",
    "print(sol.minSubArrayLen(8,[4,5,7,2,5,2,5]))"
   ]
  },
  {
   "cell_type": "code",
   "execution_count": 18,
   "id": "3c384fa1-2f1f-4f31-b725-07e7d8c0e621",
   "metadata": {},
   "outputs": [
    {
     "name": "stdout",
     "output_type": "stream",
     "text": [
      "branch 'code1' set up to track 'origin/code1'.\n"
     ]
    },
    {
     "name": "stderr",
     "output_type": "stream",
     "text": [
      "remote: \n",
      "remote: Create a pull request for 'code1' on GitHub by visiting:        \n",
      "remote:      https://github.com/ABHISHEK-ALGO/Practice-book/pull/new/code1        \n",
      "remote: \n",
      "To https://github.com/ABHISHEK-ALGO/Practice-book.git\n",
      " * [new branch]      code1 -> code1\n"
     ]
    }
   ],
   "source": [
    "!git push --set-upstream origin code1\n",
    "\n"
   ]
  }
 ],
 "metadata": {
  "kernelspec": {
   "display_name": "Python 3 (ipykernel)",
   "language": "python",
   "name": "python3"
  },
  "language_info": {
   "codemirror_mode": {
    "name": "ipython",
    "version": 3
   },
   "file_extension": ".py",
   "mimetype": "text/x-python",
   "name": "python",
   "nbconvert_exporter": "python",
   "pygments_lexer": "ipython3",
   "version": "3.11.7"
  }
 },
 "nbformat": 4,
 "nbformat_minor": 5
}
