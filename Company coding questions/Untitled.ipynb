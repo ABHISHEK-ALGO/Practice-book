{
 "cells": [
  {
   "cell_type": "code",
   "execution_count": 23,
   "id": "39f784e0",
   "metadata": {
    "scrolled": true
   },
   "outputs": [
    {
     "name": "stdout",
     "output_type": "stream",
     "text": [
      "enter the size of the array:5\n",
      "enter the element  at 0 index:3\n",
      "enter the element  at 1 index:4\n",
      "enter the element  at 2 index:1\n",
      "enter the element  at 3 index:7\n",
      "enter the element  at 4 index:9\n",
      "Sorted even array: [3, 1, 9]\n",
      "sorted odd array: [4, 7]\n",
      "the required sum is given as : 7\n"
     ]
    }
   ],
   "source": [
    "## Soriing array question\n",
    "\n",
    "# create 3 arrays\n",
    "\n",
    "array = []\n",
    "even_array = []\n",
    "odd_array = []\n",
    "\n",
    "# take the input elements in the array\n",
    "\n",
    "n = int(input(\"enter the size of the array:\"))\n",
    "\n",
    "# appent the array with elements \n",
    "\n",
    "for i in range(0,n):\n",
    "    number = int(input(\"enter the element  at {} index:\".format(i)))\n",
    "    array.append(number)\n",
    "    if i % 2 ==0:\n",
    "        even_array.append(array[i])\n",
    "    else:\n",
    "        odd_array.append(array[i])\n",
    "        \n",
    "# print sort array\n",
    "\n",
    "even_arr = sorted(even_array)\n",
    "print(\"Sorted even array:\", even_array[0:len(even_array)])\n",
    "\n",
    "odd_arr = sorted(odd_array)\n",
    "print(\"sorted odd array:\", odd_array[0:len(odd_array)])\n",
    "\n",
    "# addition of the second largest numver\n",
    "print(\"the required sum is given as :\", even_arr[-2] + odd_arr[-2])"
   ]
  },
  {
   "cell_type": "code",
   "execution_count": null,
   "id": "3dbd48bd",
   "metadata": {},
   "outputs": [],
   "source": [
    "# otp generation from odd numbers\n",
    "\n",
    "given_num = input(\"enter the number:\")\n",
    "length_num = len(given_num)\n",
    "otp = \"\"\n",
    "for i in range (1,length_num,2):\n",
    "    odd = int(given_num[i])\n",
    "    odd = odd**2\n",
    "    otp+=str(odd)\n",
    "    \n",
    "print(otp[0:4])"
   ]
  },
  {
   "cell_type": "code",
   "execution_count": 5,
   "id": "e672182b-de37-4cca-99d4-53b049818c2b",
   "metadata": {},
   "outputs": [
    {
     "name": "stdout",
     "output_type": "stream",
     "text": [
      "[8, 3, 6, 7]\n"
     ]
    }
   ],
   "source": [
    "def intersection(x,y):\n",
    "    return list(set(x)&set(y))\n",
    "\n",
    "x = [2,3,5,6,5,5,7,8]\n",
    "y = [4,6,8,3,6,7]\n",
    "\n",
    "df = intersection(x,y)\n",
    "print(df)"
   ]
  },
  {
   "cell_type": "code",
   "execution_count": 7,
   "id": "57bd2759-df21-4f85-8c2c-4649c45e25f6",
   "metadata": {},
   "outputs": [
    {
     "data": {
      "text/plain": [
       "[5]"
      ]
     },
     "execution_count": 7,
     "metadata": {},
     "output_type": "execute_result"
    }
   ],
   "source": [
    "# to find duplicates in the array\n",
    "def duplicates(arr):\n",
    "    seen = set()\n",
    "    duplicates = set()\n",
    "    for num in arr:\n",
    "        if num in seen:\n",
    "            duplicates.add(num)\n",
    "        else:\n",
    "            seen.add(num)\n",
    "    return list(duplicates)\n",
    "\n",
    "arr = [4,5,5,3,6,8,42,5]\n",
    "duplicates(arr)"
   ]
  },
  {
   "cell_type": "code",
   "execution_count": 1,
   "id": "e6e0c6f0-62d7-4de2-8723-410167a47aac",
   "metadata": {},
   "outputs": [
    {
     "name": "stdout",
     "output_type": "stream",
     "text": [
      "1\n",
      "fizz\n",
      "buzz\n",
      "fizz\n",
      "5\n",
      "fizzbuzz\n",
      "7\n",
      "fizz\n",
      "buzz\n",
      "fizz\n",
      "11\n",
      "fizzbuzz\n",
      "13\n",
      "fizz\n",
      "buzz\n",
      "fizz\n",
      "17\n",
      "fizzbuzz\n",
      "19\n",
      "fizz\n",
      "buzz\n",
      "fizz\n",
      "23\n",
      "fizzbuzz\n",
      "25\n",
      "fizz\n",
      "buzz\n",
      "fizz\n",
      "29\n",
      "fizzbuzz\n",
      "31\n",
      "fizz\n",
      "buzz\n",
      "fizz\n",
      "35\n",
      "fizzbuzz\n",
      "37\n",
      "fizz\n",
      "buzz\n",
      "fizz\n",
      "41\n",
      "fizzbuzz\n",
      "43\n",
      "fizz\n",
      "buzz\n",
      "fizz\n",
      "47\n",
      "fizzbuzz\n",
      "49\n",
      "fizz\n"
     ]
    }
   ],
   "source": [
    "# fizz buzz and fizzbuzz\n",
    "\n",
    "for i in range (1,51):\n",
    "    if i%2==0 and i%3==0:\n",
    "        print(\"fizzbuzz\")\n",
    "    elif i%2==0:\n",
    "        print(\"fizz\")\n",
    "    elif i%3==0:\n",
    "        print(\"buzz\")\n",
    "    else:\n",
    "        print(i)"
   ]
  },
  {
   "cell_type": "code",
   "execution_count": 6,
   "id": "c9461e25-e19f-4a29-8047-b3ec7b2e7a07",
   "metadata": {},
   "outputs": [],
   "source": [
    "# palindrome with converting to string\n",
    "\n",
    "def palindrome(num):\n",
    "    s = str(num)\n",
    "    rev = s[::-1]\n",
    "    if (s==rev):\n",
    "        return True\n",
    "    else:\n",
    "        return False\n",
    "    "
   ]
  },
  {
   "cell_type": "code",
   "execution_count": 8,
   "id": "d98bc93c-aa30-4e9b-a9df-f70a50172a85",
   "metadata": {},
   "outputs": [
    {
     "data": {
      "text/plain": [
       "False"
      ]
     },
     "execution_count": 8,
     "metadata": {},
     "output_type": "execute_result"
    }
   ],
   "source": [
    "# palindrome without converting to string\n",
    "\n",
    "def palindrome(x):\n",
    "    if (x<0 or (x%10==0 & x!=0):\n",
    "        return False\n",
    "    rev = 0\n",
    "    while (x>rev):\n",
    "        last_dig = x%10\n",
    "        rev = rev*10+last_dig\n",
    "        x = x//10\n",
    "\n",
    "    if (x == rev or x==rev//10):\n",
    "        return True\n",
    "        "
   ]
  },
  {
   "cell_type": "code",
   "execution_count": 6,
   "id": "a3e1304a-bf12-4f70-a73b-7b83902469f8",
   "metadata": {},
   "outputs": [],
   "source": [
    "# factorial of n using recursion \n",
    "def factorial_recursion(n):\n",
    "    if n==0 or n==1:\n",
    "        return 1 \n",
    "    return n * factorial_recursion(n-1)"
   ]
  },
  {
   "cell_type": "code",
   "execution_count": 8,
   "id": "0d55ea6e-893d-443c-a3b1-94d588e1e1b4",
   "metadata": {},
   "outputs": [
    {
     "data": {
      "text/plain": [
       "120"
      ]
     },
     "execution_count": 8,
     "metadata": {},
     "output_type": "execute_result"
    }
   ],
   "source": [
    "factorial_recursion(5)"
   ]
  },
  {
   "cell_type": "code",
   "execution_count": 14,
   "id": "55a50bac-554e-4d17-af94-0c97b6e0a9e6",
   "metadata": {},
   "outputs": [],
   "source": [
    "# foactorial of n using iterative\n",
    "def factorial_iterative(n):\n",
    "    result = 1\n",
    "    for i in range(1,n+1):\n",
    "        result*=i\n",
    "    return result"
   ]
  },
  {
   "cell_type": "code",
   "execution_count": 18,
   "id": "5fecf60e-ac3a-4aca-ba2a-7cfdeb17c08d",
   "metadata": {},
   "outputs": [
    {
     "name": "stdout",
     "output_type": "stream",
     "text": [
      "120\n"
     ]
    }
   ],
   "source": [
    "print(factorial_iterative(5))"
   ]
  },
  {
   "cell_type": "code",
   "execution_count": 29,
   "id": "9d30b17e-4584-45c2-b82e-43816055e8df",
   "metadata": {},
   "outputs": [],
   "source": [
    "# given a array you need to find the pair of number which will result in a sum  = target by using two pointer approach\n",
    "\n",
    "def two_sum(a, target):\n",
    "    # Sort the array in increasing order\n",
    "    a = sorted(a)\n",
    "    \n",
    "    i = 0  # left pointer\n",
    "    j = len(a) - 1  # right pointer\n",
    "    \n",
    "    while i < j:\n",
    "        sm = a[i] + a[j]\n",
    "        if sm == target:\n",
    "            print(f\"{a[i]} {a[j]}\")\n",
    "            print(f\"{i} {j}\")\n",
    "            return True\n",
    "        elif sm < target:\n",
    "            i += 1\n",
    "        else:\n",
    "            j -= 1\n",
    "    \n",
    "    return False\n",
    "\n",
    "        \n",
    "        "
   ]
  },
  {
   "cell_type": "code",
   "execution_count": 35,
   "id": "2226cd23-cd66-42d3-9892-89712d5d6fc9",
   "metadata": {},
   "outputs": [
    {
     "name": "stdout",
     "output_type": "stream",
     "text": [
      "4 6\n",
      "2 5\n"
     ]
    },
    {
     "data": {
      "text/plain": [
       "True"
      ]
     },
     "execution_count": 35,
     "metadata": {},
     "output_type": "execute_result"
    }
   ],
   "source": [
    "a= [2,4,6,3,6,4]\n",
    "target = 10\n",
    "two_sum(a,target)"
   ]
  },
  {
   "cell_type": "code",
   "execution_count": 57,
   "id": "463142b4-dc79-437c-8ea7-34d3fa422b2b",
   "metadata": {},
   "outputs": [],
   "source": [
    "def best_total_price(prices,k):\n",
    "    max_total = float('-inf')\n",
    "    for i in range(len(prices)-k+1):\n",
    "        total = sum(prices[i:i+k])\n",
    "        max_total = max(max_total,total)\n",
    "    return max_total"
   ]
  },
  {
   "cell_type": "code",
   "execution_count": 91,
   "id": "6dc532d8-de19-4417-b112-5869c7817a18",
   "metadata": {},
   "outputs": [
    {
     "data": {
      "text/plain": [
       "14"
      ]
     },
     "execution_count": 91,
     "metadata": {},
     "output_type": "execute_result"
    }
   ],
   "source": [
    "prices= [3,5,6,3,2,1]\n",
    "best_total_price(prices,3)\n",
    "best_total(prices,3)\n"
   ]
  },
  {
   "cell_type": "code",
   "execution_count": 87,
   "id": "5c8d8ba6-9feb-49f5-9d48-5faf09d42338",
   "metadata": {},
   "outputs": [],
   "source": [
    "# using slinding window technique\n",
    "def best_total(prices,k):\n",
    "    if k > len(prices):\n",
    "        return 0\n",
    "    total = sum(prices[:k])\n",
    "    max_total = total\n",
    "    for i in range(len(prices)-k):\n",
    "        total -=prices[i]\n",
    "        total += prices[i+k]\n",
    "        max_total = max(max_total,total)\n",
    "    return max_total"
   ]
  },
  {
   "cell_type": "code",
   "execution_count": 69,
   "id": "7847d964-7f6f-42d0-ad52-594ead5ba383",
   "metadata": {},
   "outputs": [],
   "source": [
    "# finding a subarray from array whose sum is maximum\n",
    "# using brute force tech\n",
    "def best_total_price(prices,k):\n",
    "    max_total = 0\n",
    "    for i in range(len(prices)-k+1):\n",
    "        total = sum(prices[i:i+k])\n",
    "        max_total = max(max_total,total)\n",
    "    return max_total\n",
    "\n",
    "# using slinding window technique\n",
    "def best_total(prices,k):\n",
    "    if k > len(prices):\n",
    "        return 0\n",
    "    total = sum(prices[:k])\n",
    "    max_total = total\n",
    "\n",
    "    for i in range(len(prices)-k):\n",
    "        total -= prices[i]\n",
    "        total += prices[i+]"
   ]
  }
 ],
 "metadata": {
  "kernelspec": {
   "display_name": "Python 3 (ipykernel)",
   "language": "python",
   "name": "python3"
  },
  "language_info": {
   "codemirror_mode": {
    "name": "ipython",
    "version": 3
   },
   "file_extension": ".py",
   "mimetype": "text/x-python",
   "name": "python",
   "nbconvert_exporter": "python",
   "pygments_lexer": "ipython3",
   "version": "3.11.7"
  }
 },
 "nbformat": 4,
 "nbformat_minor": 5
}
