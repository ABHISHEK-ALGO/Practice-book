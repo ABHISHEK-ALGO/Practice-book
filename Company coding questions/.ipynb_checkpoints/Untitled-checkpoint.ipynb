{
 "cells": [
  {
   "cell_type": "code",
   "execution_count": 23,
   "id": "39f784e0",
   "metadata": {
    "scrolled": true
   },
   "outputs": [
    {
     "name": "stdout",
     "output_type": "stream",
     "text": [
      "enter the size of the array:5\n",
      "enter the element  at 0 index:3\n",
      "enter the element  at 1 index:4\n",
      "enter the element  at 2 index:1\n",
      "enter the element  at 3 index:7\n",
      "enter the element  at 4 index:9\n",
      "Sorted even array: [3, 1, 9]\n",
      "sorted odd array: [4, 7]\n",
      "the required sum is given as : 7\n"
     ]
    }
   ],
   "source": [
    "## Soriing array question\n",
    "\n",
    "# create 3 arrays\n",
    "\n",
    "array = []\n",
    "even_array = []\n",
    "odd_array = []\n",
    "\n",
    "# take the input elements in the array\n",
    "\n",
    "n = int(input(\"enter the size of the array:\"))\n",
    "\n",
    "# appent the array with elements \n",
    "\n",
    "for i in range(0,n):\n",
    "    number = int(input(\"enter the element  at {} index:\".format(i)))\n",
    "    array.append(number)\n",
    "    if i % 2 ==0:\n",
    "        even_array.append(array[i])\n",
    "    else:\n",
    "        odd_array.append(array[i])\n",
    "        \n",
    "# print sort array\n",
    "\n",
    "even_arr = sorted(even_array)\n",
    "print(\"Sorted even array:\", even_array[0:len(even_array)])\n",
    "\n",
    "odd_arr = sorted(odd_array)\n",
    "print(\"sorted odd array:\", odd_array[0:len(odd_array)])\n",
    "\n",
    "# addition of the second largest numver\n",
    "print(\"the required sum is given as :\", even_arr[-2] + odd_arr[-2])"
   ]
  },
  {
   "cell_type": "code",
   "execution_count": null,
   "id": "3dbd48bd",
   "metadata": {},
   "outputs": [],
   "source": [
    "# otp generation from odd numbers\n",
    "\n",
    "given_num = input(\"enter the number:\")\n",
    "length_num = len(given_num)\n",
    "otp = \"\"\n",
    "for i in range (1,length_num,2):\n",
    "    odd = int(given_num[i])\n",
    "    odd = odd**2\n",
    "    otp+=str(odd)\n",
    "    \n",
    "print(otp[0:4])"
   ]
  },
  {
   "cell_type": "code",
   "execution_count": 5,
   "id": "e672182b-de37-4cca-99d4-53b049818c2b",
   "metadata": {},
   "outputs": [
    {
     "name": "stdout",
     "output_type": "stream",
     "text": [
      "[8, 3, 6, 7]\n"
     ]
    }
   ],
   "source": [
    "def intersection(x,y):\n",
    "    return list(set(x)&set(y))\n",
    "\n",
    "x = [2,3,5,6,5,5,7,8]\n",
    "y = [4,6,8,3,6,7]\n",
    "\n",
    "df = intersection(x,y)\n",
    "print(df)"
   ]
  },
  {
   "cell_type": "code",
   "execution_count": 7,
   "id": "57bd2759-df21-4f85-8c2c-4649c45e25f6",
   "metadata": {},
   "outputs": [
    {
     "data": {
      "text/plain": [
       "[5]"
      ]
     },
     "execution_count": 7,
     "metadata": {},
     "output_type": "execute_result"
    }
   ],
   "source": [
    "# to find duplicates in the array\n",
    "def duplicates(arr):\n",
    "    seen = set()\n",
    "    duplicates = set()\n",
    "    for num in arr:\n",
    "        if num in seen:\n",
    "            duplicates.add(num)\n",
    "        else:\n",
    "            seen.add(num)\n",
    "    return list(duplicates)\n",
    "\n",
    "arr = [4,5,5,3,6,8,42,5]\n",
    "duplicates(arr)"
   ]
  }
 ],
 "metadata": {
  "kernelspec": {
   "display_name": "Python 3 (ipykernel)",
   "language": "python",
   "name": "python3"
  },
  "language_info": {
   "codemirror_mode": {
    "name": "ipython",
    "version": 3
   },
   "file_extension": ".py",
   "mimetype": "text/x-python",
   "name": "python",
   "nbconvert_exporter": "python",
   "pygments_lexer": "ipython3",
   "version": "3.11.7"
  }
 },
 "nbformat": 4,
 "nbformat_minor": 5
}
